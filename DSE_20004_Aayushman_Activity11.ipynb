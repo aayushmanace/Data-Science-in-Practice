{
 "cells": [
  {
   "cell_type": "code",
   "execution_count": 1,
   "metadata": {},
   "outputs": [
    {
     "name": "stderr",
     "output_type": "stream",
     "text": [
      "c:\\Users\\aayus\\anaconda3\\lib\\site-packages\\scipy\\__init__.py:146: UserWarning: A NumPy version >=1.16.5 and <1.23.0 is required for this version of SciPy (detected version 1.23.3\n",
      "  warnings.warn(f\"A NumPy version >={np_minversion} and <{np_maxversion}\"\n"
     ]
    }
   ],
   "source": [
    "import tensorflow as tf"
   ]
  },
  {
   "cell_type": "markdown",
   "metadata": {},
   "source": [
    "## Exercise 1: Implementing a Mathematical Equation"
   ]
  },
  {
   "cell_type": "code",
   "execution_count": 2,
   "metadata": {},
   "outputs": [],
   "source": [
    "X=3\n",
    "Y=4"
   ]
  },
  {
   "cell_type": "code",
   "execution_count": 3,
   "metadata": {},
   "outputs": [],
   "source": [
    "X = tf.Variable(3)\n",
    "Y = tf.Variable(4)\n",
    "C =tf.constant(2)"
   ]
  },
  {
   "cell_type": "code",
   "execution_count": 4,
   "metadata": {},
   "outputs": [],
   "source": [
    "def myfunc(x,y,c):\n",
    "    Z = x*x*y+y+c\n",
    "    return Z"
   ]
  },
  {
   "cell_type": "code",
   "execution_count": 5,
   "metadata": {},
   "outputs": [
    {
     "name": "stdout",
     "output_type": "stream",
     "text": [
      "42\n"
     ]
    }
   ],
   "source": [
    "result = myfunc(X,Y,C)\n",
    "tf.print(result)"
   ]
  },
  {
   "cell_type": "markdown",
   "metadata": {},
   "source": [
    "## Exercise 2: Matrix Multiplication Using TensorFlow"
   ]
  },
  {
   "cell_type": "code",
   "execution_count": 6,
   "metadata": {},
   "outputs": [],
   "source": [
    "X=tf.Variable([[1,2,3],[4,5,6]])\n",
    "Y=tf.Variable([[7,8],[9,10],[11,12]])"
   ]
  },
  {
   "cell_type": "code",
   "execution_count": 7,
   "metadata": {},
   "outputs": [
    {
     "name": "stdout",
     "output_type": "stream",
     "text": [
      "[[1 2 3]\n",
      " [4 5 6]]\n"
     ]
    }
   ],
   "source": [
    "tf.print(X)"
   ]
  },
  {
   "cell_type": "code",
   "execution_count": 8,
   "metadata": {},
   "outputs": [
    {
     "name": "stdout",
     "output_type": "stream",
     "text": [
      "[[7 8]\n",
      " [9 10]\n",
      " [11 12]]\n"
     ]
    }
   ],
   "source": [
    "tf.print(Y)"
   ]
  },
  {
   "cell_type": "code",
   "execution_count": 9,
   "metadata": {},
   "outputs": [
    {
     "name": "stdout",
     "output_type": "stream",
     "text": [
      "[[58 64]\n",
      " [139 154]]\n"
     ]
    }
   ],
   "source": [
    "c1=tf.matmul(X,Y)\n",
    "tf.print(c1)"
   ]
  },
  {
   "cell_type": "code",
   "execution_count": 10,
   "metadata": {},
   "outputs": [
    {
     "name": "stdout",
     "output_type": "stream",
     "text": [
      "[[39 54 69]\n",
      " [49 68 87]\n",
      " [59 82 105]]\n"
     ]
    }
   ],
   "source": [
    "c2=tf.matmul(Y,X)\n",
    "tf.print(c2)"
   ]
  },
  {
   "cell_type": "markdown",
   "metadata": {},
   "source": [
    "## Exercise 3: Reshaping Matrices Using the reshape() Function in TensorFlow"
   ]
  },
  {
   "cell_type": "code",
   "execution_count": 11,
   "metadata": {},
   "outputs": [
    {
     "name": "stdout",
     "output_type": "stream",
     "text": [
      "[[1 2 3 4]\n",
      " [5 6 7 8]\n",
      " [9 10 11 12]\n",
      " [13 14 15 16]\n",
      " [17 18 19 20]]\n"
     ]
    }
   ],
   "source": [
    "A=tf.Variable([[1,2,3,4], \\\n",
    "[5,6,7,8], \\\n",
    "[9,10,11,12], \\\n",
    "[13,14,15,16], \\\n",
    "[17,18,19,20]])\n",
    "\n",
    "tf.print(A)"
   ]
  },
  {
   "cell_type": "code",
   "execution_count": 12,
   "metadata": {},
   "outputs": [
    {
     "data": {
      "text/plain": [
       "TensorShape([5, 4])"
      ]
     },
     "execution_count": 12,
     "metadata": {},
     "output_type": "execute_result"
    }
   ],
   "source": [
    "A.shape"
   ]
  },
  {
   "cell_type": "code",
   "execution_count": 13,
   "metadata": {},
   "outputs": [
    {
     "name": "stdout",
     "output_type": "stream",
     "text": [
      "[[[1]\n",
      "  [2]\n",
      "  [3]\n",
      "  [4]]\n",
      "\n",
      " [[5]\n",
      "  [6]\n",
      "  [7]\n",
      "  [8]]\n",
      "\n",
      " [[9]\n",
      "  [10]\n",
      "  [11]\n",
      "  [12]]\n",
      "\n",
      " [[13]\n",
      "  [14]\n",
      "  [15]\n",
      "  [16]]\n",
      "\n",
      " [[17]\n",
      "  [18]\n",
      "  [19]\n",
      "  [20]]]\n"
     ]
    }
   ],
   "source": [
    "tf.print(tf.reshape(A,[5,4,1]))"
   ]
  },
  {
   "cell_type": "code",
   "execution_count": 14,
   "metadata": {},
   "outputs": [
    {
     "data": {
      "text/plain": [
       "TensorShape([5, 4])"
      ]
     },
     "execution_count": 14,
     "metadata": {},
     "output_type": "execute_result"
    }
   ],
   "source": [
    "A.shape"
   ]
  },
  {
   "cell_type": "code",
   "execution_count": 15,
   "metadata": {},
   "outputs": [
    {
     "data": {
      "text/plain": [
       "TensorShape([5, 4, 1])"
      ]
     },
     "execution_count": 15,
     "metadata": {},
     "output_type": "execute_result"
    }
   ],
   "source": [
    "A = tf.reshape(A,[5,4,1])\n",
    "A.shape"
   ]
  },
  {
   "cell_type": "code",
   "execution_count": 16,
   "metadata": {},
   "outputs": [
    {
     "name": "stdout",
     "output_type": "stream",
     "text": [
      "[[[1]\n",
      "  [2]\n",
      "  [3]\n",
      "  [4]]\n",
      "\n",
      " [[5]\n",
      "  [6]\n",
      "  [7]\n",
      "  [8]]\n",
      "\n",
      " [[9]\n",
      "  [10]\n",
      "  [11]\n",
      "  [12]]\n",
      "\n",
      " [[13]\n",
      "  [14]\n",
      "  [15]\n",
      "  [16]]\n",
      "\n",
      " [[17]\n",
      "  [18]\n",
      "  [19]\n",
      "  [20]]]\n"
     ]
    }
   ],
   "source": [
    "tf.print(A)"
   ]
  },
  {
   "cell_type": "markdown",
   "metadata": {},
   "source": [
    "## Exercise 4: Implementing the argmax() Function"
   ]
  },
  {
   "cell_type": "code",
   "execution_count": 17,
   "metadata": {},
   "outputs": [
    {
     "name": "stdout",
     "output_type": "stream",
     "text": [
      "[[91 12 15]\n",
      " [11 88 21]\n",
      " [90 87 75]]\n"
     ]
    }
   ],
   "source": [
    "X=tf.Variable([[91,12,15], [11,88,21],[90, 87,75]])\n",
    "tf.print(X)"
   ]
  },
  {
   "cell_type": "code",
   "execution_count": 18,
   "metadata": {},
   "outputs": [
    {
     "data": {
      "text/plain": [
       "TensorShape([3, 3])"
      ]
     },
     "execution_count": 18,
     "metadata": {},
     "output_type": "execute_result"
    }
   ],
   "source": [
    "X.shape"
   ]
  },
  {
   "cell_type": "code",
   "execution_count": 19,
   "metadata": {},
   "outputs": [
    {
     "name": "stdout",
     "output_type": "stream",
     "text": [
      "[0 1 2]\n"
     ]
    }
   ],
   "source": [
    "tf.print(tf.argmax(X,axis=0))"
   ]
  },
  {
   "cell_type": "code",
   "execution_count": 20,
   "metadata": {},
   "outputs": [
    {
     "name": "stdout",
     "output_type": "stream",
     "text": [
      "[0 1 0]\n"
     ]
    }
   ],
   "source": [
    "tf.print(tf.argmax(X,axis=1))"
   ]
  },
  {
   "cell_type": "markdown",
   "metadata": {},
   "source": [
    "## Exercise 5: Using an Optimizer for a Simple Linear Regression"
   ]
  },
  {
   "cell_type": "code",
   "execution_count": 21,
   "metadata": {},
   "outputs": [],
   "source": [
    "w=tf.Variable(0.0)\n",
    "b=tf.Variable(0.0)"
   ]
  },
  {
   "cell_type": "code",
   "execution_count": 22,
   "metadata": {},
   "outputs": [],
   "source": [
    "def regression(x):\n",
    "    model=w*x+b\n",
    "    return model"
   ]
  },
  {
   "cell_type": "code",
   "execution_count": 23,
   "metadata": {},
   "outputs": [],
   "source": [
    "x=[1,2,3,4]\n",
    "y=[0,-1,-2,-3]"
   ]
  },
  {
   "cell_type": "code",
   "execution_count": 24,
   "metadata": {},
   "outputs": [],
   "source": [
    "loss=lambda:abs(regression(x)-y)"
   ]
  },
  {
   "cell_type": "code",
   "execution_count": 25,
   "metadata": {},
   "outputs": [],
   "source": [
    "optimizer=tf.optimizers.Adam(.01)"
   ]
  },
  {
   "cell_type": "code",
   "execution_count": 26,
   "metadata": {},
   "outputs": [],
   "source": [
    "for i in range(1000):\n",
    "    optimizer.minimize(loss,[w,b])"
   ]
  },
  {
   "cell_type": "code",
   "execution_count": 27,
   "metadata": {},
   "outputs": [
    {
     "name": "stdout",
     "output_type": "stream",
     "text": [
      "-1.00371706 0.999803364\n"
     ]
    }
   ],
   "source": [
    "tf.print(w,b)"
   ]
  },
  {
   "cell_type": "code",
   "execution_count": 28,
   "metadata": {},
   "outputs": [
    {
     "name": "stdout",
     "output_type": "stream",
     "text": [
      "[-0.00391370058 -1.00763083 -2.01134801 -3.01506495]\n"
     ]
    }
   ],
   "source": [
    "tf.print(regression([1,2,3,4]))"
   ]
  },
  {
   "cell_type": "markdown",
   "metadata": {},
   "source": [
    "## Exercise 6: Creating an ANN with TensorFlow"
   ]
  },
  {
   "cell_type": "code",
   "execution_count": 32,
   "metadata": {},
   "outputs": [],
   "source": [
    "model = tf.keras.Sequential()"
   ]
  },
  {
   "cell_type": "code",
   "execution_count": 33,
   "metadata": {},
   "outputs": [],
   "source": [
    "model.add(tf.keras.layers.InputLayer(input_shape=(8,),name='Input_layer'))"
   ]
  },
  {
   "cell_type": "code",
   "execution_count": 34,
   "metadata": {},
   "outputs": [],
   "source": [
    "model.add(tf.keras.layers.Dense(4, activation='relu',name='First_hidden_layer'))\n",
    "model.add(tf.keras.layers.Dense(1,name='Output_layer'))"
   ]
  },
  {
   "cell_type": "code",
   "execution_count": 35,
   "metadata": {},
   "outputs": [
    {
     "data": {
      "text/plain": [
       "[<tf.Variable 'First_hidden_layer/kernel:0' shape=(8, 4) dtype=float32, numpy=\n",
       " array([[ 0.55009085,  0.2919436 ,  0.5748295 , -0.34787402],\n",
       "        [-0.09321672, -0.37711447,  0.46967953, -0.67726123],\n",
       "        [ 0.5402648 ,  0.6971249 , -0.11240005, -0.66107804],\n",
       "        [-0.49862146,  0.2718708 , -0.26361892, -0.36784843],\n",
       "        [-0.04677522, -0.28189176,  0.43769854,  0.12011516],\n",
       "        [-0.01570392, -0.4826561 ,  0.59585696,  0.2848729 ],\n",
       "        [ 0.09810555, -0.6700988 ,  0.30876034, -0.63297147],\n",
       "        [-0.01179856, -0.3511237 , -0.12783188, -0.5855758 ]],\n",
       "       dtype=float32)>,\n",
       " <tf.Variable 'First_hidden_layer/bias:0' shape=(4,) dtype=float32, numpy=array([0., 0., 0., 0.], dtype=float32)>,\n",
       " <tf.Variable 'Output_layer/kernel:0' shape=(4, 1) dtype=float32, numpy=\n",
       " array([[-0.24457657],\n",
       "        [ 1.0786743 ],\n",
       "        [-0.91161597],\n",
       "        [ 0.25506794]], dtype=float32)>,\n",
       " <tf.Variable 'Output_layer/bias:0' shape=(1,) dtype=float32, numpy=array([0.], dtype=float32)>]"
      ]
     },
     "execution_count": 35,
     "metadata": {},
     "output_type": "execute_result"
    }
   ],
   "source": [
    "model.variables"
   ]
  },
  {
   "cell_type": "code",
   "execution_count": 36,
   "metadata": {},
   "outputs": [],
   "source": [
    "data = tf.random.normal((32,8))"
   ]
  },
  {
   "cell_type": "code",
   "execution_count": 40,
   "metadata": {},
   "outputs": [
    {
     "name": "stdout",
     "output_type": "stream",
     "text": [
      "1/1 [==============================] - 0s 29ms/step\n"
     ]
    },
    {
     "data": {
      "text/plain": [
       "array([[ 0.17184049],\n",
       "       [ 0.79238284],\n",
       "       [ 1.9228483 ],\n",
       "       [-1.2778416 ],\n",
       "       [ 1.1470045 ],\n",
       "       [-0.79602414],\n",
       "       [-2.3452237 ],\n",
       "       [ 0.12282   ],\n",
       "       [ 0.03623555],\n",
       "       [ 0.3289487 ],\n",
       "       [ 0.59997034],\n",
       "       [ 0.92210627],\n",
       "       [-1.6438384 ],\n",
       "       [-1.6519547 ],\n",
       "       [-1.0238655 ],\n",
       "       [ 1.4052039 ],\n",
       "       [ 0.67340666],\n",
       "       [ 3.113067  ],\n",
       "       [ 1.8922404 ],\n",
       "       [-3.618649  ],\n",
       "       [ 0.9346123 ],\n",
       "       [ 0.55231494],\n",
       "       [ 1.074933  ],\n",
       "       [-1.9399177 ],\n",
       "       [-1.2240968 ],\n",
       "       [ 2.189323  ],\n",
       "       [-1.370307  ],\n",
       "       [-0.37555504],\n",
       "       [-1.25015   ],\n",
       "       [ 0.32761988],\n",
       "       [-1.257606  ],\n",
       "       [ 1.9377168 ]], dtype=float32)"
      ]
     },
     "execution_count": 40,
     "metadata": {},
     "output_type": "execute_result"
    }
   ],
   "source": [
    "prediction = model.predict(data)\n",
    "prediction\n"
   ]
  },
  {
   "cell_type": "markdown",
   "metadata": {},
   "source": [
    "## Exercise 7: Creating a Linear Regression Model as an ANN with TensorFlow"
   ]
  },
  {
   "cell_type": "code",
   "execution_count": 42,
   "metadata": {},
   "outputs": [],
   "source": [
    "import pandas as pd\n",
    "df = pd.read_csv(\"Bias_correction_ucl.csv\")"
   ]
  },
  {
   "cell_type": "code",
   "execution_count": 43,
   "metadata": {},
   "outputs": [],
   "source": [
    "df.drop('Date', inplace=True, axis=1)\n",
    "df.dropna(inplace=True)"
   ]
  },
  {
   "cell_type": "code",
   "execution_count": 44,
   "metadata": {},
   "outputs": [],
   "source": [
    "target = df[['Next_Tmax', 'Next_Tmin']]\n",
    "features = df.drop(['Next_Tmax', 'Next_Tmin'],\n",
    "axis=1)"
   ]
  },
  {
   "cell_type": "code",
   "execution_count": 45,
   "metadata": {},
   "outputs": [],
   "source": [
    "from sklearn.preprocessing import MinMaxScaler\n",
    "scaler = MinMaxScaler()\n",
    "feature_array = scaler.fit_transform(features)\n",
    "features = pd.DataFrame(feature_array,columns=features.columns)"
   ]
  },
  {
   "cell_type": "code",
   "execution_count": 46,
   "metadata": {},
   "outputs": [],
   "source": [
    "model = tf.keras.Sequential()"
   ]
  },
  {
   "cell_type": "code",
   "execution_count": 47,
   "metadata": {},
   "outputs": [],
   "source": [
    "model.add(tf.keras.layers.InputLayer(input_shape=(features.shape[1],), name='Input_layer'))"
   ]
  },
  {
   "cell_type": "code",
   "execution_count": 48,
   "metadata": {},
   "outputs": [],
   "source": [
    "model.add(tf.keras.layers.Dense(2,name='Output_layer'))"
   ]
  },
  {
   "cell_type": "code",
   "execution_count": 49,
   "metadata": {},
   "outputs": [],
   "source": [
    "model.compile(tf.optimizers.RMSprop(0.001),loss='mse')"
   ]
  },
  {
   "cell_type": "code",
   "execution_count": 50,
   "metadata": {},
   "outputs": [],
   "source": [
    "tensorboard_callback = tf.keras.callbacks.TensorBoard(log_dir=\"./logs\")"
   ]
  },
  {
   "cell_type": "code",
   "execution_count": 51,
   "metadata": {},
   "outputs": [
    {
     "name": "stdout",
     "output_type": "stream",
     "text": [
      "Epoch 1/50\n",
      "238/238 [==============================] - 2s 3ms/step - loss: 669.7455\n",
      "Epoch 2/50\n",
      "238/238 [==============================] - 1s 3ms/step - loss: 564.4802\n",
      "Epoch 3/50\n",
      "238/238 [==============================] - 1s 3ms/step - loss: 468.9808\n",
      "Epoch 4/50\n",
      "238/238 [==============================] - 1s 3ms/step - loss: 382.8988\n",
      "Epoch 5/50\n",
      "238/238 [==============================] - 1s 2ms/step - loss: 306.5018\n",
      "Epoch 6/50\n",
      "238/238 [==============================] - 1s 3ms/step - loss: 239.7127\n",
      "Epoch 7/50\n",
      "238/238 [==============================] - 1s 2ms/step - loss: 182.5094\n",
      "Epoch 8/50\n",
      "238/238 [==============================] - 1s 3ms/step - loss: 134.7769\n",
      "Epoch 9/50\n",
      "238/238 [==============================] - 1s 3ms/step - loss: 96.6941\n",
      "Epoch 10/50\n",
      "238/238 [==============================] - 1s 4ms/step - loss: 68.1397\n",
      "Epoch 11/50\n",
      "238/238 [==============================] - 1s 5ms/step - loss: 48.4379\n",
      "Epoch 12/50\n",
      "238/238 [==============================] - 1s 3ms/step - loss: 35.4436\n",
      "Epoch 13/50\n",
      "238/238 [==============================] - 1s 3ms/step - loss: 27.4105\n",
      "Epoch 14/50\n",
      "238/238 [==============================] - 1s 2ms/step - loss: 22.9529\n",
      "Epoch 15/50\n",
      "238/238 [==============================] - 0s 2ms/step - loss: 20.1322\n",
      "Epoch 16/50\n",
      "238/238 [==============================] - 0s 2ms/step - loss: 18.0933\n",
      "Epoch 17/50\n",
      "238/238 [==============================] - 0s 2ms/step - loss: 16.3831\n",
      "Epoch 18/50\n",
      "238/238 [==============================] - 1s 3ms/step - loss: 14.8015\n",
      "Epoch 19/50\n",
      "238/238 [==============================] - 1s 2ms/step - loss: 13.4013\n",
      "Epoch 20/50\n",
      "238/238 [==============================] - 1s 3ms/step - loss: 12.1667\n",
      "Epoch 21/50\n",
      "238/238 [==============================] - 0s 1ms/step - loss: 11.0321\n",
      "Epoch 22/50\n",
      "238/238 [==============================] - 0s 1ms/step - loss: 10.0319\n",
      "Epoch 23/50\n",
      "238/238 [==============================] - 0s 1ms/step - loss: 9.1425\n",
      "Epoch 24/50\n",
      "238/238 [==============================] - 0s 1ms/step - loss: 8.3709\n",
      "Epoch 25/50\n",
      "238/238 [==============================] - 0s 1ms/step - loss: 7.6952\n",
      "Epoch 26/50\n",
      "238/238 [==============================] - 0s 981us/step - loss: 7.0956\n",
      "Epoch 27/50\n",
      "238/238 [==============================] - 0s 1ms/step - loss: 6.5809\n",
      "Epoch 28/50\n",
      "238/238 [==============================] - 0s 990us/step - loss: 6.1275\n",
      "Epoch 29/50\n",
      "238/238 [==============================] - 0s 880us/step - loss: 5.7631\n",
      "Epoch 30/50\n",
      "238/238 [==============================] - 0s 1ms/step - loss: 5.4693\n",
      "Epoch 31/50\n",
      "238/238 [==============================] - 0s 888us/step - loss: 5.2256\n",
      "Epoch 32/50\n",
      "238/238 [==============================] - 0s 984us/step - loss: 5.0226\n",
      "Epoch 33/50\n",
      "238/238 [==============================] - 0s 903us/step - loss: 4.8552\n",
      "Epoch 34/50\n",
      "238/238 [==============================] - 0s 975us/step - loss: 4.7154\n",
      "Epoch 35/50\n",
      "238/238 [==============================] - 0s 1ms/step - loss: 4.5921\n",
      "Epoch 36/50\n",
      "238/238 [==============================] - 0s 999us/step - loss: 4.4873\n",
      "Epoch 37/50\n",
      "238/238 [==============================] - 0s 962us/step - loss: 4.3928\n",
      "Epoch 38/50\n",
      "238/238 [==============================] - 0s 1ms/step - loss: 4.3080\n",
      "Epoch 39/50\n",
      "238/238 [==============================] - 0s 1ms/step - loss: 4.2315\n",
      "Epoch 40/50\n",
      "238/238 [==============================] - 0s 1ms/step - loss: 4.1601\n",
      "Epoch 41/50\n",
      "238/238 [==============================] - 0s 1ms/step - loss: 4.0917\n",
      "Epoch 42/50\n",
      "238/238 [==============================] - 0s 1ms/step - loss: 4.0280\n",
      "Epoch 43/50\n",
      "238/238 [==============================] - 0s 1ms/step - loss: 3.9674\n",
      "Epoch 44/50\n",
      "238/238 [==============================] - 0s 1ms/step - loss: 3.9109\n",
      "Epoch 45/50\n",
      "238/238 [==============================] - 0s 1ms/step - loss: 3.8548\n",
      "Epoch 46/50\n",
      "238/238 [==============================] - 0s 1ms/step - loss: 3.8033\n",
      "Epoch 47/50\n",
      "238/238 [==============================] - 0s 1ms/step - loss: 3.7522\n",
      "Epoch 48/50\n",
      "238/238 [==============================] - 0s 1ms/step - loss: 3.7056\n",
      "Epoch 49/50\n",
      "238/238 [==============================] - 0s 1ms/step - loss: 3.6597\n",
      "Epoch 50/50\n",
      "238/238 [==============================] - 0s 1ms/step - loss: 3.6169\n"
     ]
    },
    {
     "data": {
      "text/plain": [
       "<keras.callbacks.History at 0x1780fea9880>"
      ]
     },
     "execution_count": 51,
     "metadata": {},
     "output_type": "execute_result"
    }
   ],
   "source": [
    "model.fit(x=features.to_numpy(),\n",
    "y=target.to_numpy(),\\\n",
    "epochs=50,\n",
    "callbacks=[tensorboard_callback])"
   ]
  },
  {
   "cell_type": "code",
   "execution_count": 52,
   "metadata": {},
   "outputs": [
    {
     "name": "stdout",
     "output_type": "stream",
     "text": [
      "238/238 [==============================] - 0s 1ms/step - loss: 3.5949\n",
      "loss: 3.5948596000671387\n"
     ]
    }
   ],
   "source": [
    "loss = model.evaluate(features.to_numpy(),\n",
    "target.to_numpy())\n",
    "print('loss:', loss)"
   ]
  },
  {
   "cell_type": "markdown",
   "metadata": {},
   "source": [
    "## Exercise 8: Creating a Multi-Layer ANN with TensorFlow"
   ]
  },
  {
   "cell_type": "code",
   "execution_count": 54,
   "metadata": {},
   "outputs": [],
   "source": [
    "df = pd.read_csv('Bias_correction_ucl.csv')"
   ]
  },
  {
   "cell_type": "code",
   "execution_count": 56,
   "metadata": {},
   "outputs": [],
   "source": [
    "df.drop('Date', inplace=True, axis=1)\n",
    "df.dropna(inplace=True)"
   ]
  },
  {
   "cell_type": "code",
   "execution_count": 59,
   "metadata": {},
   "outputs": [],
   "source": [
    "target = df[['Next_Tmax', 'Next_Tmin']]\n",
    "features = df.drop(['Next_Tmax', 'Next_Tmin'],axis=1)"
   ]
  },
  {
   "cell_type": "code",
   "execution_count": 60,
   "metadata": {},
   "outputs": [],
   "source": [
    "from sklearn.preprocessing import MinMaxScaler\n",
    "scaler = MinMaxScaler()\n",
    "feature_array = scaler.fit_transform(features)\n",
    "features = pd.DataFrame(feature_array,\n",
    "columns=features.columns)"
   ]
  },
  {
   "cell_type": "code",
   "execution_count": 61,
   "metadata": {},
   "outputs": [],
   "source": [
    "model = tf.keras.Sequential()"
   ]
  },
  {
   "cell_type": "code",
   "execution_count": 62,
   "metadata": {},
   "outputs": [],
   "source": [
    "model.add(tf.keras.layers.InputLayer(input_shape=(features.shape[1],), name='Input_layer'))"
   ]
  },
  {
   "cell_type": "code",
   "execution_count": 63,
   "metadata": {},
   "outputs": [],
   "source": [
    "model.add(tf.keras.layers.Dense(16,\n",
    "name='Dense_layer_1'))\n",
    "model.add(tf.keras.layers.Dense(8,\n",
    "name='Dense_layer_2'))\n",
    "model.add(tf.keras.layers.Dense(4,\n",
    "name='Dense_layer_3'))\n",
    "model.add(tf.keras.layers.Dense(2,\n",
    "name='Output_layer'))"
   ]
  },
  {
   "cell_type": "code",
   "execution_count": 64,
   "metadata": {},
   "outputs": [],
   "source": [
    "model.compile(tf.optimizers.RMSprop(0.001),\n",
    "loss='mse')"
   ]
  },
  {
   "cell_type": "code",
   "execution_count": 65,
   "metadata": {},
   "outputs": [],
   "source": [
    "tensorboard_callback = tf.keras.callbacks.TensorBoard(log_dir=\"./logs\")"
   ]
  },
  {
   "cell_type": "code",
   "execution_count": 66,
   "metadata": {},
   "outputs": [
    {
     "name": "stdout",
     "output_type": "stream",
     "text": [
      "Epoch 1/50\n",
      "190/190 [==============================] - 1s 3ms/step - loss: 227.5352 - val_loss: 21.0922\n",
      "Epoch 2/50\n",
      "190/190 [==============================] - 0s 1ms/step - loss: 10.7658 - val_loss: 6.0179\n",
      "Epoch 3/50\n",
      "190/190 [==============================] - 0s 2ms/step - loss: 4.8107 - val_loss: 4.8855\n",
      "Epoch 4/50\n",
      "190/190 [==============================] - 1s 4ms/step - loss: 3.8400 - val_loss: 4.4099\n",
      "Epoch 5/50\n",
      "190/190 [==============================] - 1s 4ms/step - loss: 3.2993 - val_loss: 3.7028\n",
      "Epoch 6/50\n",
      "190/190 [==============================] - 1s 7ms/step - loss: 2.9177 - val_loss: 3.2037\n",
      "Epoch 7/50\n",
      "190/190 [==============================] - 1s 6ms/step - loss: 2.6343 - val_loss: 3.3077\n",
      "Epoch 8/50\n",
      "190/190 [==============================] - 1s 3ms/step - loss: 2.4184 - val_loss: 2.7477\n",
      "Epoch 9/50\n",
      "190/190 [==============================] - 1s 4ms/step - loss: 2.2631 - val_loss: 2.4710\n",
      "Epoch 10/50\n",
      "190/190 [==============================] - 1s 4ms/step - loss: 2.1538 - val_loss: 2.5144\n",
      "Epoch 11/50\n",
      "190/190 [==============================] - 1s 5ms/step - loss: 2.0745 - val_loss: 2.4670\n",
      "Epoch 12/50\n",
      "190/190 [==============================] - 1s 4ms/step - loss: 2.0316 - val_loss: 2.2786\n",
      "Epoch 13/50\n",
      "190/190 [==============================] - 1s 5ms/step - loss: 1.9809 - val_loss: 2.4213\n",
      "Epoch 14/50\n",
      "190/190 [==============================] - 1s 4ms/step - loss: 1.9542 - val_loss: 2.3628\n",
      "Epoch 15/50\n",
      "190/190 [==============================] - 1s 3ms/step - loss: 1.9320 - val_loss: 2.2076\n",
      "Epoch 16/50\n",
      "190/190 [==============================] - 1s 3ms/step - loss: 1.9028 - val_loss: 2.3696\n",
      "Epoch 17/50\n",
      "190/190 [==============================] - 0s 2ms/step - loss: 1.8933 - val_loss: 2.3292\n",
      "Epoch 18/50\n",
      "190/190 [==============================] - 0s 2ms/step - loss: 1.8645 - val_loss: 2.3658\n",
      "Epoch 19/50\n",
      "190/190 [==============================] - 0s 2ms/step - loss: 1.8538 - val_loss: 2.0855\n",
      "Epoch 20/50\n",
      "190/190 [==============================] - 0s 2ms/step - loss: 1.8375 - val_loss: 2.5678\n",
      "Epoch 21/50\n",
      "190/190 [==============================] - 0s 2ms/step - loss: 1.8231 - val_loss: 2.0894\n",
      "Epoch 22/50\n",
      "190/190 [==============================] - 0s 2ms/step - loss: 1.7958 - val_loss: 2.1114\n",
      "Epoch 23/50\n",
      "190/190 [==============================] - 0s 2ms/step - loss: 1.7844 - val_loss: 2.0207\n",
      "Epoch 24/50\n",
      "190/190 [==============================] - 0s 2ms/step - loss: 1.7741 - val_loss: 2.3803\n",
      "Epoch 25/50\n",
      "190/190 [==============================] - 0s 2ms/step - loss: 1.7687 - val_loss: 2.3998\n",
      "Epoch 26/50\n",
      "190/190 [==============================] - 0s 2ms/step - loss: 1.7435 - val_loss: 2.2147\n",
      "Epoch 27/50\n",
      "190/190 [==============================] - 0s 1ms/step - loss: 1.7422 - val_loss: 1.9824\n",
      "Epoch 28/50\n",
      "190/190 [==============================] - 0s 2ms/step - loss: 1.7333 - val_loss: 2.1168\n",
      "Epoch 29/50\n",
      "190/190 [==============================] - 0s 1ms/step - loss: 1.7064 - val_loss: 1.9857\n",
      "Epoch 30/50\n",
      "190/190 [==============================] - 0s 2ms/step - loss: 1.7086 - val_loss: 2.1172\n",
      "Epoch 31/50\n",
      "190/190 [==============================] - 0s 1ms/step - loss: 1.6981 - val_loss: 2.5940\n",
      "Epoch 32/50\n",
      "190/190 [==============================] - 0s 1ms/step - loss: 1.6910 - val_loss: 1.9777\n",
      "Epoch 33/50\n",
      "190/190 [==============================] - 0s 2ms/step - loss: 1.6752 - val_loss: 1.9796\n",
      "Epoch 34/50\n",
      "190/190 [==============================] - 0s 2ms/step - loss: 1.6755 - val_loss: 2.0767\n",
      "Epoch 35/50\n",
      "190/190 [==============================] - 0s 1ms/step - loss: 1.6711 - val_loss: 1.9076\n",
      "Epoch 36/50\n",
      "190/190 [==============================] - 0s 1ms/step - loss: 1.6607 - val_loss: 2.4905\n",
      "Epoch 37/50\n",
      "190/190 [==============================] - 0s 1ms/step - loss: 1.6603 - val_loss: 2.5518\n",
      "Epoch 38/50\n",
      "190/190 [==============================] - 0s 1ms/step - loss: 1.6575 - val_loss: 1.9141\n",
      "Epoch 39/50\n",
      "190/190 [==============================] - 0s 1ms/step - loss: 1.6525 - val_loss: 1.8923\n",
      "Epoch 40/50\n",
      "190/190 [==============================] - 0s 1ms/step - loss: 1.6388 - val_loss: 1.8410\n",
      "Epoch 41/50\n",
      "190/190 [==============================] - 0s 1ms/step - loss: 1.6489 - val_loss: 1.8604\n",
      "Epoch 42/50\n",
      "190/190 [==============================] - 0s 1ms/step - loss: 1.6215 - val_loss: 1.9369\n",
      "Epoch 43/50\n",
      "190/190 [==============================] - 0s 2ms/step - loss: 1.6314 - val_loss: 1.8707\n",
      "Epoch 44/50\n",
      "190/190 [==============================] - 0s 1ms/step - loss: 1.6283 - val_loss: 1.8930\n",
      "Epoch 45/50\n",
      "190/190 [==============================] - 0s 1ms/step - loss: 1.6337 - val_loss: 2.5177\n",
      "Epoch 46/50\n",
      "190/190 [==============================] - 0s 1ms/step - loss: 1.6276 - val_loss: 1.9008\n",
      "Epoch 47/50\n",
      "190/190 [==============================] - 0s 2ms/step - loss: 1.6246 - val_loss: 2.2899\n",
      "Epoch 48/50\n",
      "190/190 [==============================] - 0s 3ms/step - loss: 1.6315 - val_loss: 1.8572\n",
      "Epoch 49/50\n",
      "190/190 [==============================] - 0s 2ms/step - loss: 1.6260 - val_loss: 2.2364\n",
      "Epoch 50/50\n",
      "190/190 [==============================] - 1s 3ms/step - loss: 1.6283 - val_loss: 1.8900\n"
     ]
    },
    {
     "data": {
      "text/plain": [
       "<keras.callbacks.History at 0x1780eb6fa00>"
      ]
     },
     "execution_count": 66,
     "metadata": {},
     "output_type": "execute_result"
    }
   ],
   "source": [
    "model.fit(x=features.to_numpy(),\n",
    "y=target.to_numpy(),epochs=50, callbacks=[tensorboard_callback],validation_split=0.2)"
   ]
  },
  {
   "cell_type": "code",
   "execution_count": 67,
   "metadata": {},
   "outputs": [
    {
     "name": "stdout",
     "output_type": "stream",
     "text": [
      "238/238 [==============================] - 1s 2ms/step - loss: 1.6226\n",
      "loss: 1.6226309537887573\n"
     ]
    }
   ],
   "source": [
    "loss = model.evaluate(features.to_numpy(),\n",
    "target.to_numpy())\n",
    "print('loss:', loss)"
   ]
  },
  {
   "cell_type": "markdown",
   "metadata": {},
   "source": [
    "## Exercise 9: Creating a Logistic Regression Model as an ANN with TensorFlow"
   ]
  },
  {
   "cell_type": "code",
   "execution_count": 69,
   "metadata": {},
   "outputs": [],
   "source": [
    "df = pd.read_csv('qsar_androgen_receptor.csv',sep=';')"
   ]
  },
  {
   "cell_type": "code",
   "execution_count": 70,
   "metadata": {},
   "outputs": [],
   "source": [
    "df.dropna(inplace=True)"
   ]
  },
  {
   "cell_type": "code",
   "execution_count": 71,
   "metadata": {},
   "outputs": [],
   "source": [
    "target = df['positive'].apply(lambda x: 1 if x=='positive' else 0)\n",
    "features = df.drop('positive', axis=1)"
   ]
  },
  {
   "cell_type": "code",
   "execution_count": 72,
   "metadata": {},
   "outputs": [],
   "source": [
    "model = tf.keras.Sequential()"
   ]
  },
  {
   "cell_type": "code",
   "execution_count": 73,
   "metadata": {},
   "outputs": [],
   "source": [
    "model.add(tf.keras.layers.InputLayer(input_shape=(features.shape[1],), name='Input_layer'))"
   ]
  },
  {
   "cell_type": "code",
   "execution_count": 74,
   "metadata": {},
   "outputs": [],
   "source": [
    "model.add(tf.keras.layers.Dense(1,name='Output_layer', activation='sigmoid'))"
   ]
  },
  {
   "cell_type": "code",
   "execution_count": 75,
   "metadata": {},
   "outputs": [],
   "source": [
    "model.compile(tf.optimizers.RMSprop(0.0001), \\\n",
    "loss='binary_crossentropy',\n",
    "metrics=['accuracy'])"
   ]
  },
  {
   "cell_type": "code",
   "execution_count": 77,
   "metadata": {},
   "outputs": [],
   "source": [
    "tensorboard_callback =tf.keras.callbacks.TensorBoard\\\n",
    "(log_dir=\"./logs\")"
   ]
  },
  {
   "cell_type": "code",
   "execution_count": 78,
   "metadata": {},
   "outputs": [
    {
     "name": "stdout",
     "output_type": "stream",
     "text": [
      "Epoch 1/50\n",
      "43/43 [==============================] - 1s 8ms/step - loss: 0.6383 - accuracy: 0.6773 - val_loss: 0.5147 - val_accuracy: 0.8609\n",
      "Epoch 2/50\n",
      "43/43 [==============================] - 0s 3ms/step - loss: 0.5898 - accuracy: 0.7730 - val_loss: 0.4504 - val_accuracy: 0.8994\n",
      "Epoch 3/50\n",
      "43/43 [==============================] - 0s 3ms/step - loss: 0.5551 - accuracy: 0.8182 - val_loss: 0.4078 - val_accuracy: 0.9201\n",
      "Epoch 4/50\n",
      "43/43 [==============================] - 0s 2ms/step - loss: 0.5295 - accuracy: 0.8472 - val_loss: 0.3820 - val_accuracy: 0.9260\n",
      "Epoch 5/50\n",
      "43/43 [==============================] - 0s 2ms/step - loss: 0.5113 - accuracy: 0.8553 - val_loss: 0.3645 - val_accuracy: 0.9260\n",
      "Epoch 6/50\n",
      "43/43 [==============================] - 0s 2ms/step - loss: 0.4965 - accuracy: 0.8605 - val_loss: 0.3473 - val_accuracy: 0.9260\n",
      "Epoch 7/50\n",
      "43/43 [==============================] - 0s 2ms/step - loss: 0.4830 - accuracy: 0.8650 - val_loss: 0.3350 - val_accuracy: 0.9260\n",
      "Epoch 8/50\n",
      "43/43 [==============================] - 0s 2ms/step - loss: 0.4711 - accuracy: 0.8680 - val_loss: 0.3268 - val_accuracy: 0.9260\n",
      "Epoch 9/50\n",
      "43/43 [==============================] - 0s 2ms/step - loss: 0.4613 - accuracy: 0.8680 - val_loss: 0.3193 - val_accuracy: 0.9260\n",
      "Epoch 10/50\n",
      "43/43 [==============================] - 0s 5ms/step - loss: 0.4521 - accuracy: 0.8680 - val_loss: 0.3147 - val_accuracy: 0.9260\n",
      "Epoch 11/50\n",
      "43/43 [==============================] - 0s 4ms/step - loss: 0.4436 - accuracy: 0.8694 - val_loss: 0.3097 - val_accuracy: 0.9260\n",
      "Epoch 12/50\n",
      "43/43 [==============================] - 0s 3ms/step - loss: 0.4353 - accuracy: 0.8687 - val_loss: 0.3053 - val_accuracy: 0.9260\n",
      "Epoch 13/50\n",
      "43/43 [==============================] - 0s 2ms/step - loss: 0.4273 - accuracy: 0.8702 - val_loss: 0.3025 - val_accuracy: 0.9260\n",
      "Epoch 14/50\n",
      "43/43 [==============================] - 0s 2ms/step - loss: 0.4198 - accuracy: 0.8694 - val_loss: 0.2988 - val_accuracy: 0.9260\n",
      "Epoch 15/50\n",
      "43/43 [==============================] - 0s 3ms/step - loss: 0.4129 - accuracy: 0.8702 - val_loss: 0.2960 - val_accuracy: 0.9260\n",
      "Epoch 16/50\n",
      "43/43 [==============================] - 0s 2ms/step - loss: 0.4062 - accuracy: 0.8694 - val_loss: 0.2944 - val_accuracy: 0.9260\n",
      "Epoch 17/50\n",
      "43/43 [==============================] - 0s 5ms/step - loss: 0.3995 - accuracy: 0.8702 - val_loss: 0.2926 - val_accuracy: 0.9260\n",
      "Epoch 18/50\n",
      "43/43 [==============================] - 0s 4ms/step - loss: 0.3931 - accuracy: 0.8694 - val_loss: 0.2912 - val_accuracy: 0.9260\n",
      "Epoch 19/50\n",
      "43/43 [==============================] - 0s 3ms/step - loss: 0.3870 - accuracy: 0.8702 - val_loss: 0.2908 - val_accuracy: 0.9260\n",
      "Epoch 20/50\n",
      "43/43 [==============================] - 0s 3ms/step - loss: 0.3809 - accuracy: 0.8702 - val_loss: 0.2889 - val_accuracy: 0.9260\n",
      "Epoch 21/50\n",
      "43/43 [==============================] - 0s 2ms/step - loss: 0.3751 - accuracy: 0.8709 - val_loss: 0.2876 - val_accuracy: 0.9290\n",
      "Epoch 22/50\n",
      "43/43 [==============================] - 0s 2ms/step - loss: 0.3695 - accuracy: 0.8717 - val_loss: 0.2863 - val_accuracy: 0.9290\n",
      "Epoch 23/50\n",
      "43/43 [==============================] - 0s 3ms/step - loss: 0.3642 - accuracy: 0.8709 - val_loss: 0.2868 - val_accuracy: 0.9290\n",
      "Epoch 24/50\n",
      "43/43 [==============================] - 0s 3ms/step - loss: 0.3592 - accuracy: 0.8731 - val_loss: 0.2858 - val_accuracy: 0.9290\n",
      "Epoch 25/50\n",
      "43/43 [==============================] - 0s 2ms/step - loss: 0.3542 - accuracy: 0.8739 - val_loss: 0.2872 - val_accuracy: 0.9260\n",
      "Epoch 26/50\n",
      "43/43 [==============================] - 0s 2ms/step - loss: 0.3495 - accuracy: 0.8761 - val_loss: 0.2868 - val_accuracy: 0.9290\n",
      "Epoch 27/50\n",
      "43/43 [==============================] - 0s 3ms/step - loss: 0.3449 - accuracy: 0.8761 - val_loss: 0.2873 - val_accuracy: 0.9260\n",
      "Epoch 28/50\n",
      "43/43 [==============================] - 0s 2ms/step - loss: 0.3406 - accuracy: 0.8798 - val_loss: 0.2864 - val_accuracy: 0.9290\n",
      "Epoch 29/50\n",
      "43/43 [==============================] - 0s 2ms/step - loss: 0.3364 - accuracy: 0.8798 - val_loss: 0.2878 - val_accuracy: 0.9290\n",
      "Epoch 30/50\n",
      "43/43 [==============================] - 0s 3ms/step - loss: 0.3323 - accuracy: 0.8820 - val_loss: 0.2877 - val_accuracy: 0.9290\n",
      "Epoch 31/50\n",
      "43/43 [==============================] - 0s 2ms/step - loss: 0.3286 - accuracy: 0.8850 - val_loss: 0.2889 - val_accuracy: 0.9320\n",
      "Epoch 32/50\n",
      "43/43 [==============================] - 0s 2ms/step - loss: 0.3248 - accuracy: 0.8850 - val_loss: 0.2890 - val_accuracy: 0.9379\n",
      "Epoch 33/50\n",
      "43/43 [==============================] - 0s 2ms/step - loss: 0.3212 - accuracy: 0.8872 - val_loss: 0.2882 - val_accuracy: 0.9379\n",
      "Epoch 34/50\n",
      "43/43 [==============================] - 0s 2ms/step - loss: 0.3179 - accuracy: 0.8887 - val_loss: 0.2887 - val_accuracy: 0.9379\n",
      "Epoch 35/50\n",
      "43/43 [==============================] - 0s 2ms/step - loss: 0.3146 - accuracy: 0.8895 - val_loss: 0.2880 - val_accuracy: 0.9408\n",
      "Epoch 36/50\n",
      "43/43 [==============================] - 0s 2ms/step - loss: 0.3116 - accuracy: 0.8902 - val_loss: 0.2880 - val_accuracy: 0.9408\n",
      "Epoch 37/50\n",
      "43/43 [==============================] - 0s 2ms/step - loss: 0.3084 - accuracy: 0.8909 - val_loss: 0.2880 - val_accuracy: 0.9408\n",
      "Epoch 38/50\n",
      "43/43 [==============================] - 0s 2ms/step - loss: 0.3054 - accuracy: 0.8917 - val_loss: 0.2906 - val_accuracy: 0.9379\n",
      "Epoch 39/50\n",
      "43/43 [==============================] - 0s 3ms/step - loss: 0.3021 - accuracy: 0.8939 - val_loss: 0.2912 - val_accuracy: 0.9379\n",
      "Epoch 40/50\n",
      "43/43 [==============================] - 0s 2ms/step - loss: 0.2993 - accuracy: 0.8947 - val_loss: 0.2939 - val_accuracy: 0.9349\n",
      "Epoch 41/50\n",
      "43/43 [==============================] - 0s 2ms/step - loss: 0.2965 - accuracy: 0.8969 - val_loss: 0.2949 - val_accuracy: 0.9349\n",
      "Epoch 42/50\n",
      "43/43 [==============================] - 0s 3ms/step - loss: 0.2939 - accuracy: 0.8969 - val_loss: 0.2968 - val_accuracy: 0.9320\n",
      "Epoch 43/50\n",
      "43/43 [==============================] - 0s 3ms/step - loss: 0.2914 - accuracy: 0.9013 - val_loss: 0.2973 - val_accuracy: 0.9349\n",
      "Epoch 44/50\n",
      "43/43 [==============================] - 0s 2ms/step - loss: 0.2890 - accuracy: 0.9013 - val_loss: 0.2974 - val_accuracy: 0.9290\n",
      "Epoch 45/50\n",
      "43/43 [==============================] - 0s 2ms/step - loss: 0.2868 - accuracy: 0.9028 - val_loss: 0.2976 - val_accuracy: 0.9231\n",
      "Epoch 46/50\n",
      "43/43 [==============================] - 0s 6ms/step - loss: 0.2844 - accuracy: 0.9021 - val_loss: 0.2984 - val_accuracy: 0.9231\n",
      "Epoch 47/50\n",
      "43/43 [==============================] - 0s 5ms/step - loss: 0.2822 - accuracy: 0.9028 - val_loss: 0.2986 - val_accuracy: 0.9231\n",
      "Epoch 48/50\n",
      "43/43 [==============================] - 0s 4ms/step - loss: 0.2800 - accuracy: 0.9028 - val_loss: 0.2983 - val_accuracy: 0.9231\n",
      "Epoch 49/50\n",
      "43/43 [==============================] - 0s 3ms/step - loss: 0.2779 - accuracy: 0.9043 - val_loss: 0.2980 - val_accuracy: 0.9201\n",
      "Epoch 50/50\n",
      "43/43 [==============================] - 0s 4ms/step - loss: 0.2758 - accuracy: 0.9043 - val_loss: 0.2991 - val_accuracy: 0.9172\n"
     ]
    },
    {
     "data": {
      "text/plain": [
       "<keras.callbacks.History at 0x17813375d00>"
      ]
     },
     "execution_count": 78,
     "metadata": {},
     "output_type": "execute_result"
    }
   ],
   "source": [
    "model.fit(x=features.to_numpy(), y=target.to_numpy(),epochs=50, callbacks=[tensorboard_callback]\n",
    ", validation_split=0.2)"
   ]
  },
  {
   "cell_type": "code",
   "execution_count": 79,
   "metadata": {},
   "outputs": [
    {
     "name": "stdout",
     "output_type": "stream",
     "text": [
      "53/53 [==============================] - 0s 838us/step - loss: 0.2792 - accuracy: 0.9081\n",
      "loss: 0.27915987372398376, accuracy: 0.90806645154953\n"
     ]
    }
   ],
   "source": [
    "loss, accuracy = model.evaluate(features.to_numpy(),\n",
    "\\\n",
    "target.to_numpy())\n",
    "print(f'loss: {loss}, accuracy: {accuracy}')"
   ]
  },
  {
   "cell_type": "code",
   "execution_count": null,
   "metadata": {},
   "outputs": [],
   "source": []
  }
 ],
 "metadata": {
  "kernelspec": {
   "display_name": "Python 3.9.12 ('base')",
   "language": "python",
   "name": "python3"
  },
  "language_info": {
   "codemirror_mode": {
    "name": "ipython",
    "version": 3
   },
   "file_extension": ".py",
   "mimetype": "text/x-python",
   "name": "python",
   "nbconvert_exporter": "python",
   "pygments_lexer": "ipython3",
   "version": "3.9.12"
  },
  "orig_nbformat": 4,
  "vscode": {
   "interpreter": {
    "hash": "23fce98ecaf2c3b9a80c43a789d4af23921c8e1e3b3385321451b42223a803f1"
   }
  }
 },
 "nbformat": 4,
 "nbformat_minor": 2
}
